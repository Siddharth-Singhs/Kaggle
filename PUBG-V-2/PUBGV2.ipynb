{
 "cells": [
  {
   "cell_type": "code",
   "execution_count": 1,
   "metadata": {},
   "outputs": [],
   "source": [
    "import numpy as np\n",
    "import pandas as pd"
   ]
  },
  {
   "cell_type": "code",
   "execution_count": 2,
   "metadata": {},
   "outputs": [],
   "source": [
    "df_train=pd.read_csv('train_V2.csv')\n",
    "df_test=pd.read_csv('test_V2.csv')"
   ]
  },
  {
   "cell_type": "code",
   "execution_count": 3,
   "metadata": {},
   "outputs": [
    {
     "data": {
      "text/html": [
       "<div>\n",
       "<style scoped>\n",
       "    .dataframe tbody tr th:only-of-type {\n",
       "        vertical-align: middle;\n",
       "    }\n",
       "\n",
       "    .dataframe tbody tr th {\n",
       "        vertical-align: top;\n",
       "    }\n",
       "\n",
       "    .dataframe thead th {\n",
       "        text-align: right;\n",
       "    }\n",
       "</style>\n",
       "<table border=\"1\" class=\"dataframe\">\n",
       "  <thead>\n",
       "    <tr style=\"text-align: right;\">\n",
       "      <th></th>\n",
       "      <th>Id</th>\n",
       "      <th>groupId</th>\n",
       "      <th>matchId</th>\n",
       "      <th>assists</th>\n",
       "      <th>boosts</th>\n",
       "      <th>damageDealt</th>\n",
       "      <th>DBNOs</th>\n",
       "      <th>headshotKills</th>\n",
       "      <th>heals</th>\n",
       "      <th>killPlace</th>\n",
       "      <th>...</th>\n",
       "      <th>revives</th>\n",
       "      <th>rideDistance</th>\n",
       "      <th>roadKills</th>\n",
       "      <th>swimDistance</th>\n",
       "      <th>teamKills</th>\n",
       "      <th>vehicleDestroys</th>\n",
       "      <th>walkDistance</th>\n",
       "      <th>weaponsAcquired</th>\n",
       "      <th>winPoints</th>\n",
       "      <th>winPlacePerc</th>\n",
       "    </tr>\n",
       "  </thead>\n",
       "  <tbody>\n",
       "    <tr>\n",
       "      <th>0</th>\n",
       "      <td>7f96b2f878858a</td>\n",
       "      <td>4d4b580de459be</td>\n",
       "      <td>a10357fd1a4a91</td>\n",
       "      <td>0</td>\n",
       "      <td>0</td>\n",
       "      <td>0.00</td>\n",
       "      <td>0</td>\n",
       "      <td>0</td>\n",
       "      <td>0</td>\n",
       "      <td>60</td>\n",
       "      <td>...</td>\n",
       "      <td>0</td>\n",
       "      <td>0.0000</td>\n",
       "      <td>0</td>\n",
       "      <td>0.00</td>\n",
       "      <td>0</td>\n",
       "      <td>0</td>\n",
       "      <td>244.80</td>\n",
       "      <td>1</td>\n",
       "      <td>1466</td>\n",
       "      <td>0.4444</td>\n",
       "    </tr>\n",
       "    <tr>\n",
       "      <th>1</th>\n",
       "      <td>eef90569b9d03c</td>\n",
       "      <td>684d5656442f9e</td>\n",
       "      <td>aeb375fc57110c</td>\n",
       "      <td>0</td>\n",
       "      <td>0</td>\n",
       "      <td>91.47</td>\n",
       "      <td>0</td>\n",
       "      <td>0</td>\n",
       "      <td>0</td>\n",
       "      <td>57</td>\n",
       "      <td>...</td>\n",
       "      <td>0</td>\n",
       "      <td>0.0045</td>\n",
       "      <td>0</td>\n",
       "      <td>11.04</td>\n",
       "      <td>0</td>\n",
       "      <td>0</td>\n",
       "      <td>1434.00</td>\n",
       "      <td>5</td>\n",
       "      <td>0</td>\n",
       "      <td>0.6400</td>\n",
       "    </tr>\n",
       "    <tr>\n",
       "      <th>2</th>\n",
       "      <td>1eaf90ac73de72</td>\n",
       "      <td>6a4a42c3245a74</td>\n",
       "      <td>110163d8bb94ae</td>\n",
       "      <td>1</td>\n",
       "      <td>0</td>\n",
       "      <td>68.00</td>\n",
       "      <td>0</td>\n",
       "      <td>0</td>\n",
       "      <td>0</td>\n",
       "      <td>47</td>\n",
       "      <td>...</td>\n",
       "      <td>0</td>\n",
       "      <td>0.0000</td>\n",
       "      <td>0</td>\n",
       "      <td>0.00</td>\n",
       "      <td>0</td>\n",
       "      <td>0</td>\n",
       "      <td>161.80</td>\n",
       "      <td>2</td>\n",
       "      <td>0</td>\n",
       "      <td>0.7755</td>\n",
       "    </tr>\n",
       "    <tr>\n",
       "      <th>3</th>\n",
       "      <td>4616d365dd2853</td>\n",
       "      <td>a930a9c79cd721</td>\n",
       "      <td>f1f1f4ef412d7e</td>\n",
       "      <td>0</td>\n",
       "      <td>0</td>\n",
       "      <td>32.90</td>\n",
       "      <td>0</td>\n",
       "      <td>0</td>\n",
       "      <td>0</td>\n",
       "      <td>75</td>\n",
       "      <td>...</td>\n",
       "      <td>0</td>\n",
       "      <td>0.0000</td>\n",
       "      <td>0</td>\n",
       "      <td>0.00</td>\n",
       "      <td>0</td>\n",
       "      <td>0</td>\n",
       "      <td>202.70</td>\n",
       "      <td>3</td>\n",
       "      <td>0</td>\n",
       "      <td>0.1667</td>\n",
       "    </tr>\n",
       "    <tr>\n",
       "      <th>4</th>\n",
       "      <td>315c96c26c9aac</td>\n",
       "      <td>de04010b3458dd</td>\n",
       "      <td>6dc8ff871e21e6</td>\n",
       "      <td>0</td>\n",
       "      <td>0</td>\n",
       "      <td>100.00</td>\n",
       "      <td>0</td>\n",
       "      <td>0</td>\n",
       "      <td>0</td>\n",
       "      <td>45</td>\n",
       "      <td>...</td>\n",
       "      <td>0</td>\n",
       "      <td>0.0000</td>\n",
       "      <td>0</td>\n",
       "      <td>0.00</td>\n",
       "      <td>0</td>\n",
       "      <td>0</td>\n",
       "      <td>49.75</td>\n",
       "      <td>2</td>\n",
       "      <td>0</td>\n",
       "      <td>0.1875</td>\n",
       "    </tr>\n",
       "  </tbody>\n",
       "</table>\n",
       "<p>5 rows × 29 columns</p>\n",
       "</div>"
      ],
      "text/plain": [
       "               Id         groupId         matchId  assists  boosts  \\\n",
       "0  7f96b2f878858a  4d4b580de459be  a10357fd1a4a91        0       0   \n",
       "1  eef90569b9d03c  684d5656442f9e  aeb375fc57110c        0       0   \n",
       "2  1eaf90ac73de72  6a4a42c3245a74  110163d8bb94ae        1       0   \n",
       "3  4616d365dd2853  a930a9c79cd721  f1f1f4ef412d7e        0       0   \n",
       "4  315c96c26c9aac  de04010b3458dd  6dc8ff871e21e6        0       0   \n",
       "\n",
       "   damageDealt  DBNOs  headshotKills  heals  killPlace      ...       revives  \\\n",
       "0         0.00      0              0      0         60      ...             0   \n",
       "1        91.47      0              0      0         57      ...             0   \n",
       "2        68.00      0              0      0         47      ...             0   \n",
       "3        32.90      0              0      0         75      ...             0   \n",
       "4       100.00      0              0      0         45      ...             0   \n",
       "\n",
       "   rideDistance  roadKills  swimDistance  teamKills vehicleDestroys  \\\n",
       "0        0.0000          0          0.00          0               0   \n",
       "1        0.0045          0         11.04          0               0   \n",
       "2        0.0000          0          0.00          0               0   \n",
       "3        0.0000          0          0.00          0               0   \n",
       "4        0.0000          0          0.00          0               0   \n",
       "\n",
       "   walkDistance  weaponsAcquired  winPoints  winPlacePerc  \n",
       "0        244.80                1       1466        0.4444  \n",
       "1       1434.00                5          0        0.6400  \n",
       "2        161.80                2          0        0.7755  \n",
       "3        202.70                3          0        0.1667  \n",
       "4         49.75                2          0        0.1875  \n",
       "\n",
       "[5 rows x 29 columns]"
      ]
     },
     "execution_count": 3,
     "metadata": {},
     "output_type": "execute_result"
    }
   ],
   "source": [
    "df_train.head()"
   ]
  },
  {
   "cell_type": "code",
   "execution_count": 4,
   "metadata": {},
   "outputs": [],
   "source": [
    "df_train['totalDistance']=df_train['rideDistance']+df_train['walkDistance']+df_train['swimDistance']\n",
    "df_test['totalDistance']=df_test['rideDistance']+df_test['walkDistance']+df_test['swimDistance']"
   ]
  },
  {
   "cell_type": "code",
   "execution_count": 5,
   "metadata": {},
   "outputs": [],
   "source": [
    "df_train[\"skill\"] = df_train[\"headshotKills\"]+df_train[\"roadKills\"]\n",
    "df_test['skill']=df_test['headshotKills']+df_test['roadKills']"
   ]
  },
  {
   "cell_type": "code",
   "execution_count": 6,
   "metadata": {},
   "outputs": [],
   "source": [
    "## Deleting the feature\n",
    "del df_train['rideDistance']\n",
    "del df_train['walkDistance']\n",
    "del df_train['swimDistance']\n",
    "del df_train['headshotKills']\n",
    "del df_train['roadKills']\n",
    "\n",
    "del df_test['rideDistance']\n",
    "del df_test['walkDistance']\n",
    "del df_test['swimDistance']\n",
    "del df_test['headshotKills']\n",
    "del df_test['roadKills']"
   ]
  },
  {
   "cell_type": "markdown",
   "metadata": {},
   "source": [
    "## Skill Hack"
   ]
  },
  {
   "cell_type": "code",
   "execution_count": 13,
   "metadata": {},
   "outputs": [],
   "source": [
    "df_train.drop(df_train[(df_train.skill>10) & (df_train.totalDistance < 10)].index,inplace=True)"
   ]
  },
  {
   "cell_type": "code",
   "execution_count": 19,
   "metadata": {},
   "outputs": [],
   "source": [
    "df_train.drop(df_train[(df_train.skill>10) & (df_train.totalDistance < 50)].index,inplace=True)"
   ]
  },
  {
   "cell_type": "markdown",
   "metadata": {},
   "source": [
    "## Health Hack"
   ]
  },
  {
   "cell_type": "code",
   "execution_count": 23,
   "metadata": {},
   "outputs": [],
   "source": [
    "df_train.drop(df_train[(df_train.heals > 10) & (df_train.totalDistance < 10)].index,inplace=True)"
   ]
  },
  {
   "cell_type": "code",
   "execution_count": 28,
   "metadata": {},
   "outputs": [],
   "source": [
    "df_train.drop(df_train[(df_train.heals > 10) & (df_train.totalDistance < 50)].index,inplace=True)"
   ]
  },
  {
   "cell_type": "code",
   "execution_count": 29,
   "metadata": {
    "scrolled": true
   },
   "outputs": [
    {
     "data": {
      "text/html": [
       "<div>\n",
       "<style scoped>\n",
       "    .dataframe tbody tr th:only-of-type {\n",
       "        vertical-align: middle;\n",
       "    }\n",
       "\n",
       "    .dataframe tbody tr th {\n",
       "        vertical-align: top;\n",
       "    }\n",
       "\n",
       "    .dataframe thead th {\n",
       "        text-align: right;\n",
       "    }\n",
       "</style>\n",
       "<table border=\"1\" class=\"dataframe\">\n",
       "  <thead>\n",
       "    <tr style=\"text-align: right;\">\n",
       "      <th></th>\n",
       "      <th>assists</th>\n",
       "      <th>boosts</th>\n",
       "      <th>damageDealt</th>\n",
       "      <th>DBNOs</th>\n",
       "      <th>heals</th>\n",
       "      <th>killPlace</th>\n",
       "      <th>killPoints</th>\n",
       "      <th>kills</th>\n",
       "      <th>killStreaks</th>\n",
       "      <th>longestKill</th>\n",
       "      <th>...</th>\n",
       "      <th>numGroups</th>\n",
       "      <th>rankPoints</th>\n",
       "      <th>revives</th>\n",
       "      <th>teamKills</th>\n",
       "      <th>vehicleDestroys</th>\n",
       "      <th>weaponsAcquired</th>\n",
       "      <th>winPoints</th>\n",
       "      <th>winPlacePerc</th>\n",
       "      <th>totalDistance</th>\n",
       "      <th>skill</th>\n",
       "    </tr>\n",
       "  </thead>\n",
       "  <tbody>\n",
       "    <tr>\n",
       "      <th>count</th>\n",
       "      <td>4.446856e+06</td>\n",
       "      <td>4.446856e+06</td>\n",
       "      <td>4.446856e+06</td>\n",
       "      <td>4.446856e+06</td>\n",
       "      <td>4.446856e+06</td>\n",
       "      <td>4.446856e+06</td>\n",
       "      <td>4.446856e+06</td>\n",
       "      <td>4.446856e+06</td>\n",
       "      <td>4.446856e+06</td>\n",
       "      <td>4.446856e+06</td>\n",
       "      <td>...</td>\n",
       "      <td>4.446856e+06</td>\n",
       "      <td>4.446856e+06</td>\n",
       "      <td>4.446856e+06</td>\n",
       "      <td>4.446856e+06</td>\n",
       "      <td>4.446856e+06</td>\n",
       "      <td>4.446856e+06</td>\n",
       "      <td>4.446856e+06</td>\n",
       "      <td>4.446855e+06</td>\n",
       "      <td>4.446856e+06</td>\n",
       "      <td>4.446856e+06</td>\n",
       "    </tr>\n",
       "    <tr>\n",
       "      <th>mean</th>\n",
       "      <td>2.337326e-01</td>\n",
       "      <td>1.106911e+00</td>\n",
       "      <td>1.306814e+02</td>\n",
       "      <td>6.577989e-01</td>\n",
       "      <td>1.369857e+00</td>\n",
       "      <td>4.760026e+01</td>\n",
       "      <td>5.050086e+02</td>\n",
       "      <td>9.244363e-01</td>\n",
       "      <td>5.439115e-01</td>\n",
       "      <td>2.299581e+01</td>\n",
       "      <td>...</td>\n",
       "      <td>4.300841e+01</td>\n",
       "      <td>8.920103e+02</td>\n",
       "      <td>1.646566e-01</td>\n",
       "      <td>2.386383e-02</td>\n",
       "      <td>7.918403e-03</td>\n",
       "      <td>3.659917e+00</td>\n",
       "      <td>6.064603e+02</td>\n",
       "      <td>4.728176e-01</td>\n",
       "      <td>1.764886e+03</td>\n",
       "      <td>2.302101e-01</td>\n",
       "    </tr>\n",
       "    <tr>\n",
       "      <th>std</th>\n",
       "      <td>5.881327e-01</td>\n",
       "      <td>1.715783e+00</td>\n",
       "      <td>1.705474e+02</td>\n",
       "      <td>1.144955e+00</td>\n",
       "      <td>2.679213e+00</td>\n",
       "      <td>2.746261e+01</td>\n",
       "      <td>6.275077e+02</td>\n",
       "      <td>1.555968e+00</td>\n",
       "      <td>7.108657e-01</td>\n",
       "      <td>5.097006e+01</td>\n",
       "      <td>...</td>\n",
       "      <td>2.328914e+01</td>\n",
       "      <td>7.366478e+02</td>\n",
       "      <td>4.721490e-01</td>\n",
       "      <td>1.673150e-01</td>\n",
       "      <td>9.261270e-02</td>\n",
       "      <td>2.452598e+00</td>\n",
       "      <td>7.397006e+02</td>\n",
       "      <td>3.074035e-01</td>\n",
       "      <td>2.183126e+03</td>\n",
       "      <td>6.064405e-01</td>\n",
       "    </tr>\n",
       "    <tr>\n",
       "      <th>min</th>\n",
       "      <td>0.000000e+00</td>\n",
       "      <td>0.000000e+00</td>\n",
       "      <td>0.000000e+00</td>\n",
       "      <td>0.000000e+00</td>\n",
       "      <td>0.000000e+00</td>\n",
       "      <td>1.000000e+00</td>\n",
       "      <td>0.000000e+00</td>\n",
       "      <td>0.000000e+00</td>\n",
       "      <td>0.000000e+00</td>\n",
       "      <td>0.000000e+00</td>\n",
       "      <td>...</td>\n",
       "      <td>1.000000e+00</td>\n",
       "      <td>-1.000000e+00</td>\n",
       "      <td>0.000000e+00</td>\n",
       "      <td>0.000000e+00</td>\n",
       "      <td>0.000000e+00</td>\n",
       "      <td>0.000000e+00</td>\n",
       "      <td>0.000000e+00</td>\n",
       "      <td>0.000000e+00</td>\n",
       "      <td>0.000000e+00</td>\n",
       "      <td>0.000000e+00</td>\n",
       "    </tr>\n",
       "    <tr>\n",
       "      <th>25%</th>\n",
       "      <td>0.000000e+00</td>\n",
       "      <td>0.000000e+00</td>\n",
       "      <td>0.000000e+00</td>\n",
       "      <td>0.000000e+00</td>\n",
       "      <td>0.000000e+00</td>\n",
       "      <td>2.400000e+01</td>\n",
       "      <td>0.000000e+00</td>\n",
       "      <td>0.000000e+00</td>\n",
       "      <td>0.000000e+00</td>\n",
       "      <td>0.000000e+00</td>\n",
       "      <td>...</td>\n",
       "      <td>2.700000e+01</td>\n",
       "      <td>-1.000000e+00</td>\n",
       "      <td>0.000000e+00</td>\n",
       "      <td>0.000000e+00</td>\n",
       "      <td>0.000000e+00</td>\n",
       "      <td>2.000000e+00</td>\n",
       "      <td>0.000000e+00</td>\n",
       "      <td>2.000000e-01</td>\n",
       "      <td>1.581000e+02</td>\n",
       "      <td>0.000000e+00</td>\n",
       "    </tr>\n",
       "    <tr>\n",
       "      <th>50%</th>\n",
       "      <td>0.000000e+00</td>\n",
       "      <td>0.000000e+00</td>\n",
       "      <td>8.424000e+01</td>\n",
       "      <td>0.000000e+00</td>\n",
       "      <td>0.000000e+00</td>\n",
       "      <td>4.700000e+01</td>\n",
       "      <td>0.000000e+00</td>\n",
       "      <td>0.000000e+00</td>\n",
       "      <td>0.000000e+00</td>\n",
       "      <td>0.000000e+00</td>\n",
       "      <td>...</td>\n",
       "      <td>3.000000e+01</td>\n",
       "      <td>1.443000e+03</td>\n",
       "      <td>0.000000e+00</td>\n",
       "      <td>0.000000e+00</td>\n",
       "      <td>0.000000e+00</td>\n",
       "      <td>3.000000e+00</td>\n",
       "      <td>0.000000e+00</td>\n",
       "      <td>4.583000e-01</td>\n",
       "      <td>7.883000e+02</td>\n",
       "      <td>0.000000e+00</td>\n",
       "    </tr>\n",
       "    <tr>\n",
       "      <th>75%</th>\n",
       "      <td>0.000000e+00</td>\n",
       "      <td>2.000000e+00</td>\n",
       "      <td>1.860000e+02</td>\n",
       "      <td>1.000000e+00</td>\n",
       "      <td>2.000000e+00</td>\n",
       "      <td>7.100000e+01</td>\n",
       "      <td>1.172000e+03</td>\n",
       "      <td>1.000000e+00</td>\n",
       "      <td>1.000000e+00</td>\n",
       "      <td>2.132000e+01</td>\n",
       "      <td>...</td>\n",
       "      <td>4.700000e+01</td>\n",
       "      <td>1.500000e+03</td>\n",
       "      <td>0.000000e+00</td>\n",
       "      <td>0.000000e+00</td>\n",
       "      <td>0.000000e+00</td>\n",
       "      <td>5.000000e+00</td>\n",
       "      <td>1.495000e+03</td>\n",
       "      <td>7.407000e-01</td>\n",
       "      <td>2.728600e+03</td>\n",
       "      <td>0.000000e+00</td>\n",
       "    </tr>\n",
       "    <tr>\n",
       "      <th>max</th>\n",
       "      <td>2.200000e+01</td>\n",
       "      <td>3.300000e+01</td>\n",
       "      <td>6.616000e+03</td>\n",
       "      <td>4.000000e+01</td>\n",
       "      <td>8.000000e+01</td>\n",
       "      <td>1.010000e+02</td>\n",
       "      <td>2.170000e+03</td>\n",
       "      <td>7.200000e+01</td>\n",
       "      <td>2.000000e+01</td>\n",
       "      <td>1.094000e+03</td>\n",
       "      <td>...</td>\n",
       "      <td>1.000000e+02</td>\n",
       "      <td>5.910000e+03</td>\n",
       "      <td>3.900000e+01</td>\n",
       "      <td>1.200000e+01</td>\n",
       "      <td>5.000000e+00</td>\n",
       "      <td>2.360000e+02</td>\n",
       "      <td>2.013000e+03</td>\n",
       "      <td>1.000000e+00</td>\n",
       "      <td>4.127010e+04</td>\n",
       "      <td>6.400000e+01</td>\n",
       "    </tr>\n",
       "  </tbody>\n",
       "</table>\n",
       "<p>8 rows × 22 columns</p>\n",
       "</div>"
      ],
      "text/plain": [
       "            assists        boosts   damageDealt         DBNOs         heals  \\\n",
       "count  4.446856e+06  4.446856e+06  4.446856e+06  4.446856e+06  4.446856e+06   \n",
       "mean   2.337326e-01  1.106911e+00  1.306814e+02  6.577989e-01  1.369857e+00   \n",
       "std    5.881327e-01  1.715783e+00  1.705474e+02  1.144955e+00  2.679213e+00   \n",
       "min    0.000000e+00  0.000000e+00  0.000000e+00  0.000000e+00  0.000000e+00   \n",
       "25%    0.000000e+00  0.000000e+00  0.000000e+00  0.000000e+00  0.000000e+00   \n",
       "50%    0.000000e+00  0.000000e+00  8.424000e+01  0.000000e+00  0.000000e+00   \n",
       "75%    0.000000e+00  2.000000e+00  1.860000e+02  1.000000e+00  2.000000e+00   \n",
       "max    2.200000e+01  3.300000e+01  6.616000e+03  4.000000e+01  8.000000e+01   \n",
       "\n",
       "          killPlace    killPoints         kills   killStreaks   longestKill  \\\n",
       "count  4.446856e+06  4.446856e+06  4.446856e+06  4.446856e+06  4.446856e+06   \n",
       "mean   4.760026e+01  5.050086e+02  9.244363e-01  5.439115e-01  2.299581e+01   \n",
       "std    2.746261e+01  6.275077e+02  1.555968e+00  7.108657e-01  5.097006e+01   \n",
       "min    1.000000e+00  0.000000e+00  0.000000e+00  0.000000e+00  0.000000e+00   \n",
       "25%    2.400000e+01  0.000000e+00  0.000000e+00  0.000000e+00  0.000000e+00   \n",
       "50%    4.700000e+01  0.000000e+00  0.000000e+00  0.000000e+00  0.000000e+00   \n",
       "75%    7.100000e+01  1.172000e+03  1.000000e+00  1.000000e+00  2.132000e+01   \n",
       "max    1.010000e+02  2.170000e+03  7.200000e+01  2.000000e+01  1.094000e+03   \n",
       "\n",
       "           ...          numGroups    rankPoints       revives     teamKills  \\\n",
       "count      ...       4.446856e+06  4.446856e+06  4.446856e+06  4.446856e+06   \n",
       "mean       ...       4.300841e+01  8.920103e+02  1.646566e-01  2.386383e-02   \n",
       "std        ...       2.328914e+01  7.366478e+02  4.721490e-01  1.673150e-01   \n",
       "min        ...       1.000000e+00 -1.000000e+00  0.000000e+00  0.000000e+00   \n",
       "25%        ...       2.700000e+01 -1.000000e+00  0.000000e+00  0.000000e+00   \n",
       "50%        ...       3.000000e+01  1.443000e+03  0.000000e+00  0.000000e+00   \n",
       "75%        ...       4.700000e+01  1.500000e+03  0.000000e+00  0.000000e+00   \n",
       "max        ...       1.000000e+02  5.910000e+03  3.900000e+01  1.200000e+01   \n",
       "\n",
       "       vehicleDestroys  weaponsAcquired     winPoints  winPlacePerc  \\\n",
       "count     4.446856e+06     4.446856e+06  4.446856e+06  4.446855e+06   \n",
       "mean      7.918403e-03     3.659917e+00  6.064603e+02  4.728176e-01   \n",
       "std       9.261270e-02     2.452598e+00  7.397006e+02  3.074035e-01   \n",
       "min       0.000000e+00     0.000000e+00  0.000000e+00  0.000000e+00   \n",
       "25%       0.000000e+00     2.000000e+00  0.000000e+00  2.000000e-01   \n",
       "50%       0.000000e+00     3.000000e+00  0.000000e+00  4.583000e-01   \n",
       "75%       0.000000e+00     5.000000e+00  1.495000e+03  7.407000e-01   \n",
       "max       5.000000e+00     2.360000e+02  2.013000e+03  1.000000e+00   \n",
       "\n",
       "       totalDistance         skill  \n",
       "count   4.446856e+06  4.446856e+06  \n",
       "mean    1.764886e+03  2.302101e-01  \n",
       "std     2.183126e+03  6.064405e-01  \n",
       "min     0.000000e+00  0.000000e+00  \n",
       "25%     1.581000e+02  0.000000e+00  \n",
       "50%     7.883000e+02  0.000000e+00  \n",
       "75%     2.728600e+03  0.000000e+00  \n",
       "max     4.127010e+04  6.400000e+01  \n",
       "\n",
       "[8 rows x 22 columns]"
      ]
     },
     "execution_count": 29,
     "metadata": {},
     "output_type": "execute_result"
    }
   ],
   "source": [
    "df_train.describe()"
   ]
  },
  {
   "cell_type": "markdown",
   "metadata": {},
   "source": [
    "## Kill Hack"
   ]
  },
  {
   "cell_type": "code",
   "execution_count": 35,
   "metadata": {},
   "outputs": [],
   "source": [
    "df_train.drop(df_train[(df_train.kills > 20) & (df_train.totalDistance < 100)].index,inplace=True)"
   ]
  },
  {
   "cell_type": "markdown",
   "metadata": {},
   "source": [
    "## Distance Hack"
   ]
  },
  {
   "cell_type": "code",
   "execution_count": 39,
   "metadata": {},
   "outputs": [],
   "source": [
    "df_train.drop(df_train[(df_train.longestKill > 800)].index,inplace=True)"
   ]
  },
  {
   "cell_type": "markdown",
   "metadata": {},
   "source": [
    "## Weapon hack"
   ]
  },
  {
   "cell_type": "code",
   "execution_count": 42,
   "metadata": {},
   "outputs": [],
   "source": [
    "df_train.drop(df_train[(df_train.weaponsAcquired > 10) & (df_train.totalDistance < 10)].index,inplace=True)"
   ]
  },
  {
   "cell_type": "code",
   "execution_count": 48,
   "metadata": {},
   "outputs": [],
   "source": [
    "df_train.drop(df_train[(df_train.weaponsAcquired > 50) & (df_train.totalDistance < 100)].index,inplace=True)"
   ]
  },
  {
   "cell_type": "markdown",
   "metadata": {},
   "source": [
    "## Speed Hack"
   ]
  },
  {
   "cell_type": "code",
   "execution_count": 57,
   "metadata": {},
   "outputs": [],
   "source": [
    "df_train.drop(df_train[(df_train.totalDistance > 10000) & (df_train.matchDuration < 400)].index,inplace=True)"
   ]
  },
  {
   "cell_type": "code",
   "execution_count": 58,
   "metadata": {},
   "outputs": [
    {
     "data": {
      "text/plain": [
       "(1934174,)"
      ]
     },
     "execution_count": 58,
     "metadata": {},
     "output_type": "execute_result"
    }
   ],
   "source": [
    "X_test_id=df_test.Id.values\n",
    "X_test_id.shape"
   ]
  },
  {
   "cell_type": "code",
   "execution_count": 59,
   "metadata": {},
   "outputs": [],
   "source": [
    "## Deleting the extra column\n",
    "del df_train['Id']\n",
    "del df_train['matchId']\n",
    "del df_train['groupId']\n",
    "del df_train['matchType']\n",
    "del df_test['Id']\n",
    "del df_test['matchId']\n",
    "del df_test['groupId']\n",
    "del df_test['matchType']"
   ]
  },
  {
   "cell_type": "code",
   "execution_count": 60,
   "metadata": {},
   "outputs": [
    {
     "data": {
      "text/html": [
       "<div>\n",
       "<style scoped>\n",
       "    .dataframe tbody tr th:only-of-type {\n",
       "        vertical-align: middle;\n",
       "    }\n",
       "\n",
       "    .dataframe tbody tr th {\n",
       "        vertical-align: top;\n",
       "    }\n",
       "\n",
       "    .dataframe thead th {\n",
       "        text-align: right;\n",
       "    }\n",
       "</style>\n",
       "<table border=\"1\" class=\"dataframe\">\n",
       "  <thead>\n",
       "    <tr style=\"text-align: right;\">\n",
       "      <th></th>\n",
       "      <th>assists</th>\n",
       "      <th>boosts</th>\n",
       "      <th>damageDealt</th>\n",
       "      <th>DBNOs</th>\n",
       "      <th>heals</th>\n",
       "      <th>killPlace</th>\n",
       "      <th>killPoints</th>\n",
       "      <th>kills</th>\n",
       "      <th>killStreaks</th>\n",
       "      <th>longestKill</th>\n",
       "      <th>...</th>\n",
       "      <th>numGroups</th>\n",
       "      <th>rankPoints</th>\n",
       "      <th>revives</th>\n",
       "      <th>teamKills</th>\n",
       "      <th>vehicleDestroys</th>\n",
       "      <th>weaponsAcquired</th>\n",
       "      <th>winPoints</th>\n",
       "      <th>winPlacePerc</th>\n",
       "      <th>totalDistance</th>\n",
       "      <th>skill</th>\n",
       "    </tr>\n",
       "  </thead>\n",
       "  <tbody>\n",
       "    <tr>\n",
       "      <th>0</th>\n",
       "      <td>0</td>\n",
       "      <td>0</td>\n",
       "      <td>0.00</td>\n",
       "      <td>0</td>\n",
       "      <td>0</td>\n",
       "      <td>60</td>\n",
       "      <td>1241</td>\n",
       "      <td>0</td>\n",
       "      <td>0</td>\n",
       "      <td>0.00</td>\n",
       "      <td>...</td>\n",
       "      <td>26</td>\n",
       "      <td>-1</td>\n",
       "      <td>0</td>\n",
       "      <td>0</td>\n",
       "      <td>0</td>\n",
       "      <td>1</td>\n",
       "      <td>1466</td>\n",
       "      <td>0.4444</td>\n",
       "      <td>244.8000</td>\n",
       "      <td>0</td>\n",
       "    </tr>\n",
       "    <tr>\n",
       "      <th>1</th>\n",
       "      <td>0</td>\n",
       "      <td>0</td>\n",
       "      <td>91.47</td>\n",
       "      <td>0</td>\n",
       "      <td>0</td>\n",
       "      <td>57</td>\n",
       "      <td>0</td>\n",
       "      <td>0</td>\n",
       "      <td>0</td>\n",
       "      <td>0.00</td>\n",
       "      <td>...</td>\n",
       "      <td>25</td>\n",
       "      <td>1484</td>\n",
       "      <td>0</td>\n",
       "      <td>0</td>\n",
       "      <td>0</td>\n",
       "      <td>5</td>\n",
       "      <td>0</td>\n",
       "      <td>0.6400</td>\n",
       "      <td>1445.0445</td>\n",
       "      <td>0</td>\n",
       "    </tr>\n",
       "    <tr>\n",
       "      <th>2</th>\n",
       "      <td>1</td>\n",
       "      <td>0</td>\n",
       "      <td>68.00</td>\n",
       "      <td>0</td>\n",
       "      <td>0</td>\n",
       "      <td>47</td>\n",
       "      <td>0</td>\n",
       "      <td>0</td>\n",
       "      <td>0</td>\n",
       "      <td>0.00</td>\n",
       "      <td>...</td>\n",
       "      <td>47</td>\n",
       "      <td>1491</td>\n",
       "      <td>0</td>\n",
       "      <td>0</td>\n",
       "      <td>0</td>\n",
       "      <td>2</td>\n",
       "      <td>0</td>\n",
       "      <td>0.7755</td>\n",
       "      <td>161.8000</td>\n",
       "      <td>0</td>\n",
       "    </tr>\n",
       "    <tr>\n",
       "      <th>3</th>\n",
       "      <td>0</td>\n",
       "      <td>0</td>\n",
       "      <td>32.90</td>\n",
       "      <td>0</td>\n",
       "      <td>0</td>\n",
       "      <td>75</td>\n",
       "      <td>0</td>\n",
       "      <td>0</td>\n",
       "      <td>0</td>\n",
       "      <td>0.00</td>\n",
       "      <td>...</td>\n",
       "      <td>30</td>\n",
       "      <td>1408</td>\n",
       "      <td>0</td>\n",
       "      <td>0</td>\n",
       "      <td>0</td>\n",
       "      <td>3</td>\n",
       "      <td>0</td>\n",
       "      <td>0.1667</td>\n",
       "      <td>202.7000</td>\n",
       "      <td>0</td>\n",
       "    </tr>\n",
       "    <tr>\n",
       "      <th>4</th>\n",
       "      <td>0</td>\n",
       "      <td>0</td>\n",
       "      <td>100.00</td>\n",
       "      <td>0</td>\n",
       "      <td>0</td>\n",
       "      <td>45</td>\n",
       "      <td>0</td>\n",
       "      <td>1</td>\n",
       "      <td>1</td>\n",
       "      <td>58.53</td>\n",
       "      <td>...</td>\n",
       "      <td>95</td>\n",
       "      <td>1560</td>\n",
       "      <td>0</td>\n",
       "      <td>0</td>\n",
       "      <td>0</td>\n",
       "      <td>2</td>\n",
       "      <td>0</td>\n",
       "      <td>0.1875</td>\n",
       "      <td>49.7500</td>\n",
       "      <td>0</td>\n",
       "    </tr>\n",
       "  </tbody>\n",
       "</table>\n",
       "<p>5 rows × 22 columns</p>\n",
       "</div>"
      ],
      "text/plain": [
       "   assists  boosts  damageDealt  DBNOs  heals  killPlace  killPoints  kills  \\\n",
       "0        0       0         0.00      0      0         60        1241      0   \n",
       "1        0       0        91.47      0      0         57           0      0   \n",
       "2        1       0        68.00      0      0         47           0      0   \n",
       "3        0       0        32.90      0      0         75           0      0   \n",
       "4        0       0       100.00      0      0         45           0      1   \n",
       "\n",
       "   killStreaks  longestKill  ...    numGroups  rankPoints  revives  teamKills  \\\n",
       "0            0         0.00  ...           26          -1        0          0   \n",
       "1            0         0.00  ...           25        1484        0          0   \n",
       "2            0         0.00  ...           47        1491        0          0   \n",
       "3            0         0.00  ...           30        1408        0          0   \n",
       "4            1        58.53  ...           95        1560        0          0   \n",
       "\n",
       "   vehicleDestroys  weaponsAcquired  winPoints  winPlacePerc  totalDistance  \\\n",
       "0                0                1       1466        0.4444       244.8000   \n",
       "1                0                5          0        0.6400      1445.0445   \n",
       "2                0                2          0        0.7755       161.8000   \n",
       "3                0                3          0        0.1667       202.7000   \n",
       "4                0                2          0        0.1875        49.7500   \n",
       "\n",
       "   skill  \n",
       "0      0  \n",
       "1      0  \n",
       "2      0  \n",
       "3      0  \n",
       "4      0  \n",
       "\n",
       "[5 rows x 22 columns]"
      ]
     },
     "execution_count": 60,
     "metadata": {},
     "output_type": "execute_result"
    }
   ],
   "source": [
    "df_train.head()"
   ]
  },
  {
   "cell_type": "markdown",
   "metadata": {},
   "source": [
    "## Hack"
   ]
  },
  {
   "cell_type": "code",
   "execution_count": 70,
   "metadata": {},
   "outputs": [],
   "source": [
    "df_train.drop(df_train[(df_train.kills < 3) & (df_train.winPlacePerc > 0.8) & (df_train.totalDistance < 100)].index,inplace=True)"
   ]
  },
  {
   "cell_type": "code",
   "execution_count": 90,
   "metadata": {},
   "outputs": [],
   "source": [
    "df_train.dropna(inplace=True)"
   ]
  },
  {
   "cell_type": "code",
   "execution_count": 91,
   "metadata": {},
   "outputs": [],
   "source": [
    "Y=df_train.winPlacePerc.values"
   ]
  },
  {
   "cell_type": "code",
   "execution_count": 92,
   "metadata": {},
   "outputs": [],
   "source": [
    "important_feature = [ \"kills\",\n",
    "                \"maxPlace\",\n",
    "                \"numGroups\",\n",
    "                \"totalDistance\",\n",
    "                \"killStreaks\",\n",
    "                \"weaponsAcquired\",\n",
    "                \"winPoints\",\n",
    "                \"killPlace\",\n",
    "                \"killPoints\",\n",
    "                \"longestKill\"\n",
    "               ]"
   ]
  },
  {
   "cell_type": "code",
   "execution_count": 93,
   "metadata": {},
   "outputs": [],
   "source": [
    "df_X=df_train[important_feature]"
   ]
  },
  {
   "cell_type": "code",
   "execution_count": 94,
   "metadata": {},
   "outputs": [
    {
     "data": {
      "text/plain": [
       "kills              0\n",
       "maxPlace           0\n",
       "numGroups          0\n",
       "totalDistance      0\n",
       "killStreaks        0\n",
       "weaponsAcquired    0\n",
       "winPoints          0\n",
       "killPlace          0\n",
       "killPoints         0\n",
       "longestKill        0\n",
       "dtype: int64"
      ]
     },
     "execution_count": 94,
     "metadata": {},
     "output_type": "execute_result"
    }
   ],
   "source": [
    "df_X.isna().sum()"
   ]
  },
  {
   "cell_type": "code",
   "execution_count": 95,
   "metadata": {},
   "outputs": [
    {
     "data": {
      "text/plain": [
       "0"
      ]
     },
     "execution_count": 95,
     "metadata": {},
     "output_type": "execute_result"
    }
   ],
   "source": [
    "df_train.winPlacePerc.isna().sum()"
   ]
  },
  {
   "cell_type": "code",
   "execution_count": 96,
   "metadata": {},
   "outputs": [],
   "source": [
    "df_X_test=df_test[important_feature]"
   ]
  },
  {
   "cell_type": "code",
   "execution_count": 97,
   "metadata": {},
   "outputs": [],
   "source": [
    "X=df_X.values"
   ]
  },
  {
   "cell_type": "code",
   "execution_count": 101,
   "metadata": {},
   "outputs": [],
   "source": [
    "from sklearn.model_selection import train_test_split\n",
    "from sklearn.ensemble import RandomForestRegressor\n",
    "from sklearn.metrics import mean_squared_error"
   ]
  },
  {
   "cell_type": "markdown",
   "metadata": {},
   "source": [
    "## RandomForestClassifier"
   ]
  },
  {
   "cell_type": "code",
   "execution_count": 103,
   "metadata": {},
   "outputs": [],
   "source": [
    "X_train,X_test,Y_train,Y_test=train_test_split(X,Y,random_state=0)"
   ]
  },
  {
   "cell_type": "code",
   "execution_count": null,
   "metadata": {},
   "outputs": [],
   "source": [
    "clf=RandomForestRegressor(n_jobs=-1,n_estimators=100)\n",
    "clf.fit(X_train,Y_train)"
   ]
  },
  {
   "cell_type": "code",
   "execution_count": null,
   "metadata": {},
   "outputs": [],
   "source": [
    "Y_pred=clf.predict(X_test)"
   ]
  },
  {
   "cell_type": "code",
   "execution_count": 116,
   "metadata": {},
   "outputs": [],
   "source": [
    "from sklearn.metrics import accuracy_score"
   ]
  },
  {
   "cell_type": "code",
   "execution_count": 117,
   "metadata": {},
   "outputs": [],
   "source": [
    "from sklearn.metrics import mean_absolute_error"
   ]
  },
  {
   "cell_type": "code",
   "execution_count": 1,
   "metadata": {},
   "outputs": [
    {
     "ename": "NameError",
     "evalue": "name 'X_train' is not defined",
     "output_type": "error",
     "traceback": [
      "\u001b[0;31m---------------------------------------------------------------------------\u001b[0m",
      "\u001b[0;31mNameError\u001b[0m                                 Traceback (most recent call last)",
      "\u001b[0;32m<ipython-input-1-6a3e10e692f7>\u001b[0m in \u001b[0;36m<module>\u001b[0;34m()\u001b[0m\n\u001b[0;32m----> 1\u001b[0;31m \u001b[0mX_train\u001b[0m\u001b[0;34m.\u001b[0m\u001b[0mshape\u001b[0m\u001b[0;34m,\u001b[0m\u001b[0mX_test\u001b[0m\u001b[0;34m.\u001b[0m\u001b[0mshape\u001b[0m\u001b[0;34m\u001b[0m\u001b[0m\n\u001b[0m",
      "\u001b[0;31mNameError\u001b[0m: name 'X_train' is not defined"
     ]
    }
   ],
   "source": [
    "X_train.shape,X_test.shape"
   ]
  },
  {
   "cell_type": "code",
   "execution_count": null,
   "metadata": {},
   "outputs": [],
   "source": [
    "print('testing score',clf.score(X_test,Y_test))\n",
    "print('mean squared error',mean_squared_error(Y_pred,Y_test))\n",
    "print('mean absolute error',mean_absolute_error(Y_pred,Y_test))\n",
    "print('------------->')\n",
    "print('training score',clf.score(X_train,Y_train))"
   ]
  }
 ],
 "metadata": {
  "kernelspec": {
   "display_name": "Python 3",
   "language": "python",
   "name": "python3"
  },
  "language_info": {
   "codemirror_mode": {
    "name": "ipython",
    "version": 3
   },
   "file_extension": ".py",
   "mimetype": "text/x-python",
   "name": "python",
   "nbconvert_exporter": "python",
   "pygments_lexer": "ipython3",
   "version": "3.6.5"
  }
 },
 "nbformat": 4,
 "nbformat_minor": 2
}
